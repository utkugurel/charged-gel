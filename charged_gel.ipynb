{
 "cells": [
  {
   "cell_type": "markdown",
   "id": "9c6073f8-7681-4964-bbc6-686bec6140a8",
   "metadata": {},
   "source": [
    "# Charged Gel\n",
    "\n",
    "Amphiphilic micelles gelification by charging"
   ]
  },
  {
   "cell_type": "code",
   "execution_count": null,
   "id": "35376a24-04bc-41af-84bd-d91f5f83f580",
   "metadata": {},
   "outputs": [],
   "source": [
    "from lammps import PyLammps"
   ]
  },
  {
   "cell_type": "code",
   "execution_count": null,
   "id": "f53b2a08-a6d5-4fd3-904d-beedc5820e3a",
   "metadata": {},
   "outputs": [],
   "source": [
    "L = PyLammps()"
   ]
  },
  {
   "cell_type": "markdown",
   "id": "ab8c00c5-f830-4aec-9211-3a18fb8dd812",
   "metadata": {
    "tags": []
   },
   "source": [
    "#### SET SIMULATION CONDITIONS"
   ]
  },
  {
   "cell_type": "code",
   "execution_count": null,
   "id": "5bfa1e05-835f-4681-b9ef-61518fb1bf4b",
   "metadata": {},
   "outputs": [],
   "source": [
    "L.command(\"units         lj\")\n",
    "L.command(\"atom_style    full\")\n",
    "L.command(\"bond_style harmonic\")\n",
    "L.command(\"pair_style lj/expand 2.5\")\n",
    "L.command(\"kspace_style pppm 1.0e-4\")\n",
    "\n",
    "L.command(\"dimension     3\")\n",
    "L.command(\"boundary p p p\")\n",
    "L.command(\"neighbor 0.8 bin\")"
   ]
  },
  {
   "cell_type": "code",
   "execution_count": null,
   "id": "d970f21f-d438-41f6-aaf4-edd44391a6fc",
   "metadata": {},
   "outputs": [],
   "source": [
    "L.command(\"read_data neutralMicelles.data\")\n",
    "L.command(\"group charged type 2\")"
   ]
  },
  {
   "cell_type": "markdown",
   "id": "bab8c387-c3c4-4376-9870-26d64255e12f",
   "metadata": {},
   "source": [
    "####  VARIABLES SETUP"
   ]
  },
  {
   "cell_type": "code",
   "execution_count": null,
   "id": "f124d3fb-2487-4930-aab6-d3355347d153",
   "metadata": {},
   "outputs": [],
   "source": [
    "L.command(\"variable Temp equal 1.0\")\n",
    "L.command(\"variable dt equal 0.005\")\n",
    "L.command(\"variable Tdamping equal 100*${dt}\")\n",
    "\n",
    "L.command(\"thermo  50\")\n",
    "L.command(\"thermo_style    custom step temp ebond epair ke etotal enthalpy vol press\")\n",
    "\n",
    "L.command(\"velocity     all create ${Temp} 2398481\")\n",
    "L.command(\"timestep     ${dt}\")"
   ]
  },
  {
   "cell_type": "markdown",
   "id": "c9129e27-38ee-4a9f-8709-0e8af0dd2db8",
   "metadata": {},
   "source": [
    "#### ARMS CHARGING"
   ]
  },
  {
   "cell_type": "code",
   "execution_count": null,
   "id": "12851555-92b6-4125-8368-b2005534b068",
   "metadata": {},
   "outputs": [],
   "source": [
    "L.command(\"set type 2 charge -0.001\")\n",
    "L.command(\"variable rampCharge equal ramp(-0.001,-1.0)\")\n",
    "L.command(\"fix charging charged adapt 10 atom charge v_rampCharge\")\n",
    "\n",
    "L.command(\"pair_style hybrid/overlay lj/cut 2.5 coul/long 10.0\")\n",
    "L.command(\"pair_coeff * * lj/cut 10.0 1.0 2.5\")\n",
    "L.command(\"pair_coeff 1 2 lj/cut 1.0 1.0 1.12\")\n",
    "L.command(\"pair_coeff 2 * lj/cut 1.0 1.0 1.12\")\n",
    "L.command(\"pair_coeff * * coul/long\")\n",
    "\n",
    "L.command(\"kspace_style pppm 1.0e-4\")\n",
    "\n",
    "L.command(\"fix nve1 all nve\")\n",
    "L.command(\"fix solvent all langevin 1.0 1.0 100.0 8434572\")\n",
    "\n",
    "L.command(\"dump dumpCharges all custom 20 Conf.dat id type x y z vx vy vz\")\n",
    "L.command(\"dump_modify dumpCharges sort id\")\n",
    "\n",
    "L.command(\"reset_timestep 0\")\n",
    "L.command(\"run 1000\")"
   ]
  },
  {
   "cell_type": "code",
   "execution_count": null,
   "id": "f055bcf3-0c1b-4361-83ac-0e70ad7aeab0",
   "metadata": {},
   "outputs": [],
   "source": [
    "import nglview as nv\n",
    "import MDAnalysis as mda"
   ]
  },
  {
   "cell_type": "code",
   "execution_count": null,
   "id": "e6740c83-ec9e-48bf-8392-92ba42e553f1",
   "metadata": {},
   "outputs": [],
   "source": [
    "u = mda.Universe('Conf.dat',format='LAMMPSDUMP')\n",
    "atoms = u.atoms"
   ]
  },
  {
   "cell_type": "code",
   "execution_count": null,
   "id": "82cbdc6a-8a5c-41f5-a78a-ed566491d812",
   "metadata": {},
   "outputs": [],
   "source": [
    "view = nv.show_mdanalysis(atoms)"
   ]
  },
  {
   "cell_type": "code",
   "execution_count": null,
   "id": "bef35b44-a684-4512-8a00-c0c590bd0439",
   "metadata": {},
   "outputs": [],
   "source": [
    "view"
   ]
  }
 ],
 "metadata": {
  "kernelspec": {
   "display_name": "Python 3 (ipykernel)",
   "language": "python",
   "name": "python3"
  },
  "language_info": {
   "codemirror_mode": {
    "name": "ipython",
    "version": 3
   },
   "file_extension": ".py",
   "mimetype": "text/x-python",
   "name": "python",
   "nbconvert_exporter": "python",
   "pygments_lexer": "ipython3",
   "version": "3.8.12"
  }
 },
 "nbformat": 4,
 "nbformat_minor": 5
}
